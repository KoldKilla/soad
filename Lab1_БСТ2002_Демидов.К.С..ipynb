{
 "cells": [
  {
   "cell_type": "code",
   "execution_count": 2,
   "id": "edf42d40",
   "metadata": {},
   "outputs": [],
   "source": [
    "import random\n",
    "import time\n",
    "import copy"
   ]
  },
  {
   "cell_type": "code",
   "execution_count": 3,
   "id": "52ba3aa5",
   "metadata": {},
   "outputs": [
    {
     "name": "stdout",
     "output_type": "stream",
     "text": [
      "Hello, World!\n"
     ]
    }
   ],
   "source": [
    "print (\"Hello, World!\")"
   ]
  },
  {
   "cell_type": "markdown",
   "id": "8baf83a9",
   "metadata": {},
   "source": []
  },
  {
   "cell_type": "code",
   "execution_count": 4,
   "id": "086077e0",
   "metadata": {},
   "outputs": [],
   "source": [
    "# Второй номер\n",
    "\n",
    "def m_create():\n",
    "\n",
    "    try:\n",
    "        m = int(input('Введите количество столбцов в матрице: '))\n",
    "    except ValueError:\n",
    "        m = 50\n",
    "\n",
    "    try:\n",
    "        n = int(input('Введите количество строк в матрице: '))\n",
    "    except ValueError:\n",
    "        n = 50\n",
    "\n",
    "    try:\n",
    "        min_lim = int(input('Введите минимальное значение генерируемого числа: '))\n",
    "    except ValueError:\n",
    "        min_lim = -250\n",
    "\n",
    "    try:\n",
    "        max_lim = int(input('Введите максимальное значение генерируемого числа, оно должно быть больше минимального: '))\n",
    "    except ValueError:\n",
    "        max_lim = 1003\n",
    "\n",
    "    matrix = [[random.randint(min_lim, max_lim) for j in range (m)] for i in range (n)]\n",
    "    return matrix\n"
   ]
  },
  {
   "cell_type": "code",
   "execution_count": 24,
   "id": "17cece0b",
   "metadata": {},
   "outputs": [
    {
     "name": "stdout",
     "output_type": "stream",
     "text": [
      "Введите количество столбцов в матрице: 5\n",
      "Введите количество строк в матрице: 5\n",
      "Введите минимальное значение генерируемого числа: 1\n",
      "Введите максимальное значение генерируемого числа, оно должно быть больше минимального: 10\n"
     ]
    }
   ],
   "source": [
    "matrix = m_create()"
   ]
  },
  {
   "cell_type": "code",
   "execution_count": 25,
   "id": "1d272e3b",
   "metadata": {},
   "outputs": [
    {
     "name": "stdout",
     "output_type": "stream",
     "text": [
      "[[1, 2, 2, 3, 5], [5, 8, 9, 9, 9], [1, 1, 7, 7, 8], [2, 2, 4, 7, 8], [4, 8, 8, 8, 9]]\n"
     ]
    }
   ],
   "source": [
    "# Сортировка выбором\n",
    "\n",
    "def Selection_sort(matrix):\n",
    "    n = len(matrix[0])\n",
    "    m = len(matrix[0])\n",
    "    for raw in range(n):\n",
    "        for i in range(m):\n",
    "            x = i\n",
    "            j = i + 1\n",
    "            while j < n:\n",
    "                if matrix[raw][j] < matrix[raw][x]:\n",
    "                    x = j\n",
    "                j += 1\n",
    "            matrix[raw][i], matrix[raw][x] = matrix[raw][x], matrix[raw][i]\n",
    "    return matrix\n",
    "print(Selection_sort(matrix))"
   ]
  },
  {
   "cell_type": "code",
   "execution_count": 26,
   "id": "453efe8f",
   "metadata": {},
   "outputs": [
    {
     "name": "stdout",
     "output_type": "stream",
     "text": [
      "[[1, 2, 2, 3, 5], [5, 8, 9, 9, 9], [1, 1, 7, 7, 8], [2, 2, 4, 7, 8], [4, 8, 8, 8, 9]]\n"
     ]
    }
   ],
   "source": [
    "# Сортировка вставкой\n",
    "def insertion_sort(matrix):\n",
    "    for raw in range(len(matrix)):\n",
    "        for col in range (1,len(matrix[0])):\n",
    "            a = matrix[raw][col]\n",
    "            j = col-1\n",
    "            while j >=0 and a < matrix[raw][j]:\n",
    "                matrix[raw][j+1] = matrix[raw][j]\n",
    "                j -= 1\n",
    "            matrix[raw][j+1] = a\n",
    "    return matrix\n",
    "print (insertion_sort(matrix))"
   ]
  },
  {
   "cell_type": "code",
   "execution_count": 27,
   "id": "b45eced2",
   "metadata": {},
   "outputs": [
    {
     "name": "stdout",
     "output_type": "stream",
     "text": [
      "[[1, 2, 2, 3, 5], [5, 8, 9, 9, 9], [1, 1, 7, 7, 8], [2, 2, 4, 7, 8], [4, 8, 8, 8, 9]]\n"
     ]
    }
   ],
   "source": [
    "# Сортировка обменом\n",
    "def bubble_sort(matrix):\n",
    "    n = len(matrix[0])\n",
    "    m = len(matrix[0])\n",
    "    for raw in range(n):\n",
    "        for i in range(m):\n",
    "            for j in range(m - i - 1):\n",
    "                if matrix[raw][j] > matrix[raw][j + 1]:\n",
    "                    matrix[raw][j], matrix[raw][j+1] = matrix[raw][j+1], matrix[raw][j]\n",
    "    return matrix\n",
    "print (bubble_sort(matrix))"
   ]
  },
  {
   "cell_type": "code",
   "execution_count": 28,
   "id": "9787b879",
   "metadata": {},
   "outputs": [
    {
     "name": "stdout",
     "output_type": "stream",
     "text": [
      "[[1, 2, 2, 3, 5], [5, 8, 9, 9, 9], [1, 1, 7, 7, 8], [2, 2, 4, 7, 8], [4, 8, 8, 8, 9]]\n"
     ]
    }
   ],
   "source": [
    "# Сортировка Шелла\n",
    "def shellSort(matrix):\n",
    "    n = len(matrix[0])\n",
    "    m = len(matrix[0])\n",
    "    for raw in range(n):\n",
    "        l = m//2\n",
    "        while l > 0:\n",
    "            for i in range(l, m):\n",
    "                x = matrix[raw][i]\n",
    "                j = i\n",
    "                while j >= l and matrix[raw][j-l] > x:\n",
    "                    matrix[raw][j] = matrix[raw][j-l]\n",
    "                    j -= l\n",
    "                matrix[raw][j] = x\n",
    "            l //= 2\n",
    "    return matrix\n",
    "print (shellSort(matrix))"
   ]
  },
  {
   "cell_type": "code",
   "execution_count": 29,
   "id": "4a52fa47",
   "metadata": {},
   "outputs": [],
   "source": [
    "# Сортировка Турнирная\n",
    "def tournamentSort(matrix):\n",
    "    tree = [None] * 2 * (len(matrix) + len(matrix) % 2)\n",
    "    index = len(tree) - len(matrix) - len(matrix) % 2\n",
    "\n",
    "    for i, v in enumerate(matrix):\n",
    "        tree[index + i] = (i, v)\n",
    "\n",
    "    for j in range(len(matrix)):\n",
    "        n = len(matrix)\n",
    "        index = len(tree) - len(matrix) - len(matrix) % 2\n",
    "        while index > -1:\n",
    "            n = (n + 1) // 2\n",
    "            for i in range(n):\n",
    "                i = max(index + i * 2, 1)\n",
    "                if tree[i] != None and tree[i + 1] != None:\n",
    "                    if tree[i][1] < tree[i + 1][1]:\n",
    "                        tree[i // 2] = tree[i]\n",
    "                    else:\n",
    "                        tree[i // 2] = tree[i + 1]\n",
    "                else:\n",
    "                    tree[i // 2] = tree[i] if tree[i] != None else tree[i + 1]\n",
    "            index -= n\n",
    "\n",
    "        index, x = tree[0]\n",
    "        matrix[j] = x\n",
    "        tree[len(tree) - len(matrix) - len(matrix) % 2 + index] = None"
   ]
  },
  {
   "cell_type": "code",
   "execution_count": 30,
   "id": "9ee0aeca",
   "metadata": {},
   "outputs": [
    {
     "name": "stdout",
     "output_type": "stream",
     "text": [
      "[[1, 2, 2, 3, 5], [5, 8, 9, 9, 9], [1, 1, 7, 7, 8], [2, 2, 4, 7, 8], [4, 8, 8, 8, 9]]\n"
     ]
    }
   ],
   "source": [
    "def TournamentSort(matrix):\n",
    "    for i in range(len(matrix)):\n",
    "        tournamentSort(matrix[i])\n",
    "    return matrix\n",
    "print (TournamentSort(matrix))"
   ]
  },
  {
   "cell_type": "code",
   "execution_count": 31,
   "id": "c2bab6c8",
   "metadata": {},
   "outputs": [],
   "source": [
    "# Быстрая Сортировка\n",
    "def partition(matrix, low, high,row):\n",
    "    pivot = matrix[row][(low + high) // 2]\n",
    "    i = low - 1\n",
    "    j = high + 1\n",
    "    while True:\n",
    "        i += 1\n",
    "        while matrix[row][i] < pivot:\n",
    "            i += 1\n",
    "\n",
    "        j -= 1\n",
    "        while matrix[row][j] > pivot:\n",
    "            j -= 1\n",
    "\n",
    "        if i >= j:\n",
    "            return j\n",
    "\n",
    "        matrix[row][i], matrix[row][j] = matrix[row][j], matrix[row][i]"
   ]
  },
  {
   "cell_type": "code",
   "execution_count": 32,
   "id": "a02923eb",
   "metadata": {},
   "outputs": [
    {
     "name": "stdout",
     "output_type": "stream",
     "text": [
      "[[1, 2, 2, 3, 5], [5, 8, 9, 9, 9], [1, 1, 7, 7, 8], [2, 2, 4, 7, 8], [4, 8, 8, 8, 9]]\n"
     ]
    }
   ],
   "source": [
    "def quick_sort(matrix):\n",
    "    def _quick_sort(items, low, high,row):\n",
    "        if low < high:\n",
    "            split_index = partition(items, low, high,row)\n",
    "            _quick_sort(items, low, split_index,row)\n",
    "            _quick_sort(items, split_index + 1, high,row)\n",
    "\n",
    "    for row in range(len(matrix)):\n",
    "        _quick_sort(matrix, 0, len(matrix[row])-1,row)\n",
    "\n",
    "    return matrix\n",
    "print (quick_sort(matrix))"
   ]
  },
  {
   "cell_type": "code",
   "execution_count": 33,
   "id": "b537a57d",
   "metadata": {},
   "outputs": [],
   "source": [
    "# Сортировка пирамидальная\n",
    "def heapify(matrix, n, i, row):\n",
    "    largest = i\n",
    "    l = 2 * i + 1\n",
    "    r = 2 * i + 2\n",
    "    \n",
    "    if l < n and matrix[row][i] < matrix[row][l]:\n",
    "        largest = l\n",
    "    if r < n and matrix[row][largest] < matrix[row][r]:\n",
    "        largest = r\n",
    "    \n",
    "    if largest != i:\n",
    "        matrix[row][i], matrix[row][largest] = matrix[row][largest], matrix[row][i]\n",
    "        heapify(matrix, n, largest, row)"
   ]
  },
  {
   "cell_type": "code",
   "execution_count": 34,
   "id": "ec5cd665",
   "metadata": {},
   "outputs": [
    {
     "name": "stdout",
     "output_type": "stream",
     "text": [
      "[[1, 2, 2, 3, 5], [5, 8, 9, 9, 9], [1, 1, 7, 7, 8], [2, 2, 4, 7, 8], [4, 8, 8, 8, 9]]\n"
     ]
    }
   ],
   "source": [
    "def heapSort(matrix):\n",
    "    for row in range(len(matrix)):\n",
    "        n = len(matrix[0])\n",
    "        for i in range(n//2, -1, -1):\n",
    "            heapify(matrix, n, i, row)\n",
    "        for i in range(n-1, 0, -1):\n",
    "            matrix[row][i], matrix[row][0] = matrix[row][0], matrix[row][i]\n",
    "            heapify(matrix, i, 0, row)\n",
    "    return matrix\n",
    "print (heapSort(matrix))"
   ]
  },
  {
   "cell_type": "code",
   "execution_count": 35,
   "id": "e97d84e3",
   "metadata": {},
   "outputs": [
    {
     "name": "stdout",
     "output_type": "stream",
     "text": [
      "Сортировка простым выбором\n",
      "Время выполнения:  0.00 sec\n"
     ]
    }
   ],
   "source": [
    "# Время подсчёта Сортировки выбором\n",
    "Selection_sort_matrix = copy.deepcopy(matrix)\n",
    "start_time = time.time()\n",
    "Selection_sort(Selection_sort_matrix)\n",
    "end_time_Selection_sort = time.time()-start_time\n",
    "print(\"Сортировка простым выбором\")\n",
    "print(\"Время выполнения: \",'%.2f' %end_time_Selection_sort,\"sec\")"
   ]
  },
  {
   "cell_type": "code",
   "execution_count": 36,
   "id": "79cee474",
   "metadata": {},
   "outputs": [
    {
     "name": "stdout",
     "output_type": "stream",
     "text": [
      "Сортировка вставкой\n",
      "Время выполнения:  0.00 sec\n"
     ]
    }
   ],
   "source": [
    "# Время подсчёта Сортировки вставкой\n",
    "insertion_sort_matrix = copy.deepcopy(matrix)\n",
    "start_time = time.time()\n",
    "insertion_sort(insertion_sort_matrix)\n",
    "end_time_insertion_sort = time.time()-start_time\n",
    "print(\"Сортировка вставкой\")\n",
    "print(\"Время выполнения: \",'%.2f' %end_time_insertion_sort,\"sec\")  "
   ]
  },
  {
   "cell_type": "code",
   "execution_count": 37,
   "id": "b98ed7b0",
   "metadata": {},
   "outputs": [
    {
     "name": "stdout",
     "output_type": "stream",
     "text": [
      "Сортировка обменом\n",
      "Время выполнения:  0.00 sec\n"
     ]
    }
   ],
   "source": [
    "# Время подсчёта сортировки обменом\n",
    "bubble_sort_matrix = copy.deepcopy(matrix)\n",
    "start_time = time.time()\n",
    "bubble_sort(bubble_sort_matrix)\n",
    "end_time_bubble_sort = time.time()-start_time\n",
    "print(\"Сортировка обменом\")\n",
    "print(\"Время выполнения: \",'%.2f' %end_time_bubble_sort,\"sec\")"
   ]
  },
  {
   "cell_type": "code",
   "execution_count": 38,
   "id": "ac836cbe",
   "metadata": {},
   "outputs": [
    {
     "name": "stdout",
     "output_type": "stream",
     "text": [
      "Шелл сортировка\n",
      "Время выполнения:  0.00 sec\n"
     ]
    }
   ],
   "source": [
    "# Время сортировки Шеллом\n",
    "shellSort_matrix = copy.deepcopy(matrix)\n",
    "start_time = time.time()\n",
    "shellSort(shellSort_matrix)\n",
    "end_time_shell_Sort = time.time()-start_time\n",
    "print(\"Шелл сортировка\")\n",
    "print(\"Время выполнения: \",'%.2f' %end_time_shell_Sort,\"sec\")"
   ]
  },
  {
   "cell_type": "code",
   "execution_count": 39,
   "id": "79492396",
   "metadata": {},
   "outputs": [
    {
     "name": "stdout",
     "output_type": "stream",
     "text": [
      "Турнирная сортировка\n",
      "Время выполнения:  0.00 sec\n"
     ]
    }
   ],
   "source": [
    "# Время турнирной сортировки\n",
    "Tournament_sort_matrix = copy.deepcopy(matrix)\n",
    "start_time = time.time()\n",
    "TournamentSort(Tournament_sort_matrix)\n",
    "end_time_Tournament_sort = time.time()-start_time\n",
    "print(\"Турнирная сортировка\")\n",
    "print(\"Время выполнения: \",'%.2f' %end_time_Tournament_sort,\"sec\")"
   ]
  },
  {
   "cell_type": "code",
   "execution_count": 40,
   "id": "cc4f66aa",
   "metadata": {},
   "outputs": [
    {
     "name": "stdout",
     "output_type": "stream",
     "text": [
      "Быстрая сортировка\n",
      "Время выполнения:  0.00 sec\n"
     ]
    }
   ],
   "source": [
    "# Время быстрой сортировки\n",
    "quick_sort_matrix = copy.deepcopy(matrix)\n",
    "start_time = time.time()\n",
    "quick_sort(quick_sort_matrix)\n",
    "end_time_quick_sort = time.time()-start_time\n",
    "print(\"Быстрая сортировка\")\n",
    "print(\"Время выполнения: \",'%.2f' %end_time_quick_sort,\"sec\")"
   ]
  },
  {
   "cell_type": "code",
   "execution_count": 41,
   "id": "59f8377c",
   "metadata": {},
   "outputs": [
    {
     "name": "stdout",
     "output_type": "stream",
     "text": [
      "Пирамидальная сортировка\n",
      "Время выполнения:  0.00 sec\n"
     ]
    }
   ],
   "source": [
    "# Время пирамидальной сортировки\n",
    "heapSort_matrix = copy.deepcopy(matrix)\n",
    "start_time = time.time()\n",
    "heapSort(heapSort_matrix)\n",
    "end_time_heap_Sort = time.time()-start_time\n",
    "print(\"Пирамидальная сортировка\")\n",
    "print(\"Время выполнения: \",'%.2f' %end_time_heap_Sort,\"sec\")"
   ]
  },
  {
   "cell_type": "code",
   "execution_count": 42,
   "id": "35f10354",
   "metadata": {},
   "outputs": [
    {
     "name": "stdout",
     "output_type": "stream",
     "text": [
      "Стандартная сортировка\n",
      "Время выполнения:  0.00 sec\n"
     ]
    }
   ],
   "source": [
    "# Время базовой сортировки\n",
    "basic_sort = copy.deepcopy(matrix)\n",
    "start_time = time.time()\n",
    "for i in range(len(basic_sort)):\n",
    "    basic_sort[i].sort()\n",
    "end_time_basic_sort = time.time()-start_time\n",
    "print(\"Стандартная сортировка\")\n",
    "print(\"Время выполнения: \",'%.2f' %end_time_basic_sort,\"sec\")"
   ]
  }
 ],
 "metadata": {
  "kernelspec": {
   "display_name": "Python 3 (ipykernel)",
   "language": "python",
   "name": "python3"
  },
  "language_info": {
   "codemirror_mode": {
    "name": "ipython",
    "version": 3
   },
   "file_extension": ".py",
   "mimetype": "text/x-python",
   "name": "python",
   "nbconvert_exporter": "python",
   "pygments_lexer": "ipython3",
   "version": "3.10.2"
  }
 },
 "nbformat": 4,
 "nbformat_minor": 5
}
