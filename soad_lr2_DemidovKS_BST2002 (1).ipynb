{
 "cells": [
  {
   "cell_type": "markdown",
   "id": "53c2679b",
   "metadata": {},
   "source": [
    "# Лабораторная работа №2\n",
    "## Выполнил студент грауппы БСТ2002 Демидов Константин Сергеевич \n",
    "### Задание №1"
   ]
  },
  {
   "cell_type": "markdown",
   "id": "e8ddc116",
   "metadata": {},
   "source": [
    "## Реализовать методы поиска в соответствии с заданием. Организовать генерацию начального набора случайных данных. Для всех вариантов добавить реализацию добавления, поиска и удаления элементов. Оценить время работы каждого алгоритма поиска и сравнить его со временем работы стандартной функции поиска, используемой в выбранном языке программирования."
   ]
  },
  {
   "cell_type": "code",
   "execution_count": 1,
   "id": "8ef59599",
   "metadata": {},
   "outputs": [],
   "source": [
    "from IPython.display import HTML, display\n",
    "import random\n",
    "import time\n",
    "from random import randint\n",
    "import copy"
   ]
  },
  {
   "cell_type": "code",
   "execution_count": 2,
   "id": "e72c6eb2",
   "metadata": {},
   "outputs": [
    {
     "name": "stdout",
     "output_type": "stream",
     "text": [
      "Введите количество элементов : 10\n",
      "Укажите начальный диапозон чисел для генерации: 0\n",
      "Укажите конечный диапозон чисел для генерации: 100\n",
      "Сгенерированные элементы: \n",
      "5 7 18 22 47 47 53 58 70 90 \n"
     ]
    }
   ],
   "source": [
    "def Print(mas, n):\n",
    "    for i in range (int(n)):\n",
    "        print(mas[i], end=' ')\n",
    "    print()\n",
    "    \n",
    "n = int(input(\"Введите количество элементов : \"))\n",
    "min_limit = input(\"Укажите начальный диапозон чисел для генерации: \")\n",
    "max_limit = input(\"Укажите конечный диапозон чисел для генерации: \")\n",
    "mas = [randint(int(min_limit), int(max_limit)) for i in range(int(n))]\n",
    "\n",
    "\n",
    "mas.sort()\n",
    "print(\"Сгенерированные элементы: \")\n",
    "Print(mas, n)\n",
    "\n",
    "def Insert(mas):\n",
    "    print(\"Хотите внести элемент? \")\n",
    "    ans = input()\n",
    "    if ans==\"да\" :\n",
    "        el = int(input(\"Введите число: \"))\n",
    "        index = int(input(\"Введите индекс: \"))\n",
    "        mas.insert(index, el)\n",
    "        Print(mas, n + 1)\n",
    "\n",
    "def Delete(mas):\n",
    "    print(\"Хотите удалить элемент? \")\n",
    "    ans = input()\n",
    "    if ans == \"да\" :\n",
    "        index = int(input(\"Введите индекс: \"))\n",
    "        del mas[index]\n",
    "        Print(mas, n - 1)"
   ]
  },
  {
   "cell_type": "markdown",
   "id": "1da44c52",
   "metadata": {},
   "source": [
    "# Бинарный поиск"
   ]
  },
  {
   "cell_type": "code",
   "execution_count": 3,
   "id": "5dbfd8fa",
   "metadata": {},
   "outputs": [],
   "source": [
    "def BinSearch(arr, x):\n",
    "    m = len(arr) // 2\n",
    "    i = 0\n",
    "    j = len(arr)-1\n",
    "    while arr[m] != x and i<= j:\n",
    "        if x > arr[m]:\n",
    "            i = m + 1\n",
    "        else:\n",
    "            j = m - 1\n",
    "        m = (i + j) // 2\n",
    "    if i > j:\n",
    "        print(\"Искомого числа в массиве нет\")\n",
    "    else:\n",
    "        print(\"Индекс: \", m)"
   ]
  },
  {
   "cell_type": "code",
   "execution_count": 4,
   "id": "04021b92",
   "metadata": {},
   "outputs": [
    {
     "name": "stdout",
     "output_type": "stream",
     "text": [
      "Бинарный поиск\n",
      "Введите элемент, который хотите найти: \n",
      "2\n",
      "Искомого числа в массиве нет\n",
      "Время затраченное на поиск:  0.0000000000000000\n",
      "Хотите внести элемент? \n",
      "да\n",
      "Введите число: 2\n",
      "Введите индекс: 1\n",
      "5 2 7 18 22 47 47 53 58 70 90 \n",
      "Хотите удалить элемент? \n",
      "да\n",
      "Введите индекс: 1\n",
      "5 7 18 22 47 47 53 58 70 \n"
     ]
    }
   ],
   "source": [
    "print(\"Бинарный поиск\")\n",
    "print(\"Введите элемент, который хотите найти: \")\n",
    "element = int(input())\n",
    "mas_bin = copy.deepcopy(mas)\n",
    "start = time.time()\n",
    "BinSearch(mas_bin, element)\n",
    "end = time.time()-start\n",
    "print(\"Время затраченное на поиск: \",'%.16f' % end)\n",
    "Insert(mas_bin)\n",
    "Delete(mas_bin)"
   ]
  },
  {
   "cell_type": "markdown",
   "id": "28a086c1",
   "metadata": {},
   "source": [
    "# Бинарное дерево"
   ]
  },
  {
   "cell_type": "code",
   "execution_count": 7,
   "id": "de89efe4",
   "metadata": {},
   "outputs": [],
   "source": [
    "class Node:\n",
    "\n",
    "    def __init__(self, data):\n",
    "\n",
    "        self.left = None\n",
    "        self.right = None\n",
    "        self.data = data\n",
    "\n",
    "    def insert(self, data):\n",
    "\n",
    "        if self.data:\n",
    "            if data < self.data:\n",
    "                if self.left is None:\n",
    "                    self.left = Node(data)\n",
    "                else:\n",
    "                    self.left.insert(data)\n",
    "            elif data > self.data:\n",
    "                if self.right is None:\n",
    "                    self.right = Node(data)\n",
    "                else:\n",
    "                    self.right.insert(data)\n",
    "        else:\n",
    "            self.data = data\n",
    "\n",
    "    def findval(self, lkpval):\n",
    "        if lkpval < self.data:\n",
    "            if self.left is None:\n",
    "                print(lkpval, \"не найден.\")\n",
    "                return False\n",
    "            return self.left.findval(lkpval)\n",
    "        elif lkpval > self.data:\n",
    "            if self.right is None:\n",
    "                print(lkpval, \"не найден.\")\n",
    "                return False\n",
    "            return self.right.findval(lkpval)\n",
    "        else:\n",
    "            print(self.data, ' найден.')\n",
    "            return True\n",
    "\n",
    "    def PrintTree(self):\n",
    "        if self.left:\n",
    "            self.left.PrintTree()\n",
    "        print(self.data),\n",
    "        if self.right:\n",
    "            self.right.PrintTree()\n",
    "\n",
    "\n",
    "def make_a_tree(arr):\n",
    "    root = Node(arr[0])\n",
    "    for i in arr[1::]:\n",
    "        root.insert(i)\n",
    "    return root"
   ]
  },
  {
   "cell_type": "code",
   "execution_count": 8,
   "id": "a1de7945",
   "metadata": {},
   "outputs": [
    {
     "name": "stdout",
     "output_type": "stream",
     "text": [
      "Бинарное деререво\n",
      "Введите элемент, который хотите найти: 2\n",
      "2 не найден.\n",
      "Время затраченное на поиск:  0.0\n",
      "Хотите внести элемент? да\n",
      "Введите элемент, который хотите внести: 2\n",
      "2\n",
      "38\n",
      "47\n",
      "56\n",
      "74\n",
      "84\n",
      "98\n",
      "99\n",
      "Хотите удалить элемент? нет\n"
     ]
    }
   ],
   "source": [
    "print(\"Бинарное деререво\")\n",
    "mas_tree = copy.deepcopy(mas)\n",
    "root = make_a_tree(mas_tree)\n",
    "num = int(input(\"Введите элемент, который хотите найти: \"))\n",
    "start = time.time()\n",
    "result = root.findval(num)\n",
    "end= time.time() - start\n",
    "print(\"Время затраченное на поиск: \", end)\n",
    "task = input(\"Хотите внести элемент? \")\n",
    "if task == \"да\" :\n",
    "    num = int(input(\"Введите элемент, который хотите внести: \"))\n",
    "    root.insert(num)\n",
    "    root.PrintTree()\n",
    "task = input(\"Хотите удалить элемент? \")\n",
    "if task == \"да\" :\n",
    "    num = int(input(\"Введите элемент, который хотите удалить: \"))\n",
    "    mas_tree.remove(num)\n",
    "    root = make_a_tree(mas_tree)\n",
    "    root.PrintTree()"
   ]
  },
  {
   "cell_type": "markdown",
   "id": "abd865ff",
   "metadata": {},
   "source": [
    "# Фибоначев поиск"
   ]
  },
  {
   "cell_type": "code",
   "execution_count": 9,
   "id": "ebd8c01a",
   "metadata": {},
   "outputs": [],
   "source": [
    "def FibonacciSearch(lys, val):\n",
    "    fibM_minus_2 = 0\n",
    "    fibM_minus_1 = 1\n",
    "    fibM = fibM_minus_1 + fibM_minus_2\n",
    "    while (fibM < len(lys)):\n",
    "        fibM_minus_2 = fibM_minus_1\n",
    "        fibM_minus_1 = fibM\n",
    "        fibM = fibM_minus_1 + fibM_minus_2\n",
    "    index = -1\n",
    "    while (fibM > 1):\n",
    "        i = min(index + fibM_minus_2, (len(lys)-1))\n",
    "        if (lys[i] < val):\n",
    "            fibM = fibM_minus_1\n",
    "            fibM_minus_1 = fibM_minus_2\n",
    "            fibM_minus_2 = fibM - fibM_minus_1\n",
    "            index = i\n",
    "        elif (lys[i] > val):\n",
    "            fibM = fibM_minus_2\n",
    "            fibM_minus_1 = fibM_minus_1 - fibM_minus_2\n",
    "            fibM_minus_2 = fibM - fibM_minus_1\n",
    "        else :\n",
    "            return i\n",
    "    if(fibM_minus_1 and index < (len(lys)-1) and lys[index+1] == val):\n",
    "        return index+1\n",
    "    return -1"
   ]
  },
  {
   "cell_type": "code",
   "execution_count": 10,
   "id": "125cae16",
   "metadata": {},
   "outputs": [
    {
     "name": "stdout",
     "output_type": "stream",
     "text": [
      "Фибоначчиев поиск\n",
      "Введите элемент, который хотите найти: \n",
      "2\n",
      "Искомого числа в массиве нет\n",
      "Время затраченное на поиск:  0.0\n",
      "Хотите внести элемент? \n",
      "да\n",
      "Введите число: 1\n",
      "Введите индекс: 2\n",
      "38 47 1 47 56 74 84 98 98 98 99 \n",
      "Хотите удалить элемент? \n",
      "да\n",
      "Введите индекс: 2\n",
      "38 47 47 56 74 84 98 98 98 \n"
     ]
    }
   ],
   "source": [
    "print(\"Фибоначчиев поиск\")\n",
    "print(\"Введите элемент, который хотите найти: \")\n",
    "element = int(input())\n",
    "mas_fib = copy.deepcopy(mas)\n",
    "start = time.time()\n",
    "a = FibonacciSearch(mas_fib,element)\n",
    "end = time.time()-start\n",
    "if a == -1:\n",
    "    print(\"Искомого числа в массиве нет\")\n",
    "else:\n",
    "    print(\"Индекс: \", a)\n",
    "print(\"Время затраченное на поиск: \", end)\n",
    "Insert(mas_fib)\n",
    "Delete(mas_fib)"
   ]
  },
  {
   "cell_type": "markdown",
   "id": "5709d4c8",
   "metadata": {},
   "source": [
    "# Интерполяционный поиск"
   ]
  },
  {
   "cell_type": "code",
   "execution_count": 11,
   "id": "4a37c662",
   "metadata": {},
   "outputs": [],
   "source": [
    "def InterpolationSearch(lys, val):\n",
    "    low = 0\n",
    "    high = (len(lys) - 1)\n",
    "    while low <= high and val >= lys[low] and val <= lys[high]:\n",
    "        index = low + int(((float(high - low) / (lys[high] - lys[low])) * (val - lys[low])))\n",
    "        if lys[index] == val:\n",
    "            return index\n",
    "        if lys[index] < val:\n",
    "            low = index + 1\n",
    "        else:\n",
    "            high = index - 1\n",
    "    return -1"
   ]
  },
  {
   "cell_type": "code",
   "execution_count": 12,
   "id": "cbb2fc0f",
   "metadata": {},
   "outputs": [
    {
     "name": "stdout",
     "output_type": "stream",
     "text": [
      "Интерполяционный поиск\n",
      "Введите элемент, который хотите найти: \n",
      "2\n",
      "Искомого числа в массиве нет\n",
      "Время работы:  0.0\n",
      "Хотите внести элемент? \n",
      "да\n",
      "Введите число: 3\n",
      "Введите индекс: 1\n",
      "38 3 47 47 56 74 84 98 98 98 99 \n",
      "Хотите удалить элемент? \n",
      "да\n",
      "Введите индекс: 1\n",
      "38 47 47 56 74 84 98 98 98 \n"
     ]
    }
   ],
   "source": [
    "print(\"Интерполяционный поиск\")\n",
    "print(\"Введите элемент, который хотите найти: \")\n",
    "element = int(input())\n",
    "mas_inter = copy.deepcopy(mas)\n",
    "start_time_inter = time.time()\n",
    "b = InterpolationSearch(mas_inter, element)\n",
    "end_time_inter = time.time()-start_time_inter\n",
    "if b == -1:\n",
    "    print(\"Искомого числа в массиве нет\")\n",
    "else:\n",
    "    print(\"Индекс: \", b)\n",
    "print(\"Время работы: \", end_time_inter)\n",
    "Insert(mas_inter)\n",
    "Delete(mas_inter)"
   ]
  },
  {
   "cell_type": "markdown",
   "id": "445c90aa",
   "metadata": {},
   "source": [
    "# Задание 2"
   ]
  },
  {
   "cell_type": "markdown",
   "id": "8e752f5a",
   "metadata": {},
   "source": [
    "# Простое рехеширование"
   ]
  },
  {
   "cell_type": "code",
   "execution_count": 13,
   "id": "9b2a35bf",
   "metadata": {},
   "outputs": [],
   "source": [
    "def generate_array(length=100):  # генерируем случайный массив\n",
    "    array = []\n",
    "    while len(array) < length:\n",
    "        array.append(random.randint(0, 100))\n",
    "    return array\n",
    "class ClassForRehash:\n",
    "    \"\"\"\n",
    "    Класс для наглядных примеров рехэширования с крайне примитивным хэшированием (для наглядности). \\r\\n\n",
    "        Особенность:\n",
    "            -Хеш зависит только от единиц в числе value1 (для удобства создания коллизий)\n",
    "    \"\"\"\n",
    "    def __init__(self, value1):\n",
    "        self.value1 = value1\n",
    "        self.hash = int((((value1 % ClassForRehash.MAX_HASH_TABLE) * 331) & 127) % ClassForRehash.MAX_HASH_TABLE)\n",
    "\n",
    "    MAX_HASH_TABLE = 8"
   ]
  },
  {
   "cell_type": "code",
   "execution_count": 14,
   "id": "a8c91ec3",
   "metadata": {},
   "outputs": [],
   "source": [
    "class SimpleRehashTable:\n",
    "\n",
    "    def __init__(self, length):\n",
    "        self.table = [None] * length\n",
    "\n",
    "    def add_el(self, element):\n",
    "        original_hash = element.hash\n",
    "        if self.table[original_hash] is None:\n",
    "            self.table[original_hash] = element\n",
    "            print(\"объект со значением %i имеет хэш: %i (рехеширование не требовалось)\"\n",
    "                  % (self.table[original_hash].value1, element.hash))\n",
    "            return\n",
    "\n",
    "        \"\"\"\"\"\n",
    "        простое рехеширование\n",
    "        \"\"\"\"\"\n",
    "        new_hash = original_hash + 1\n",
    "        while new_hash != original_hash:\n",
    "            if new_hash >= len(self.table):\n",
    "                new_hash = 0\n",
    "                continue\n",
    "            if self.table[new_hash] is None:\n",
    "                element.hash = new_hash\n",
    "                self.table[new_hash] = element\n",
    "                print(\"объект со значением %i имеет хэш: %i (рехешировано. коллизия была в хеше: %i)\"\n",
    "                      % (self.table[new_hash].value1, element.hash, original_hash))\n",
    "                return\n",
    "            new_hash += 1\n",
    "        print(\"таблица заполнена!\")\n",
    "        return"
   ]
  },
  {
   "cell_type": "code",
   "execution_count": 15,
   "id": "7b9a547c",
   "metadata": {},
   "outputs": [],
   "source": [
    "class SimpleRehashTable:\n",
    "\n",
    "    def __init__(self, length):\n",
    "        self.table = [None] * length\n",
    "\n",
    "    def add_el(self, element):\n",
    "        original_hash = element.hash\n",
    "        if self.table[original_hash] is None:\n",
    "            self.table[original_hash] = element\n",
    "            print(\"объект со значением %i имеет хэш: %i (рехеширование не требовалось)\"\n",
    "                  % (self.table[original_hash].value1, element.hash))\n",
    "            return\n",
    "\n",
    "        new_hash = original_hash + 1\n",
    "        while new_hash != original_hash:\n",
    "            if new_hash >= len(self.table):\n",
    "                new_hash = 0\n",
    "                continue\n",
    "            if self.table[new_hash] is None:\n",
    "                element.hash = new_hash\n",
    "                self.table[new_hash] = element\n",
    "                print(\"объект со значением %i имеет хэш: %i (рехешировано. коллизия была в хеше: %i)\"\n",
    "                      % (self.table[new_hash].value1, element.hash, original_hash))\n",
    "                return\n",
    "            new_hash += 1\n",
    "        print(\"таблица заполнена!\")\n",
    "        return"
   ]
  },
  {
   "cell_type": "code",
   "execution_count": 16,
   "id": "fcbf8c01",
   "metadata": {},
   "outputs": [
    {
     "name": "stdout",
     "output_type": "stream",
     "text": [
      "объект со значением 3 имеет хэш: 1 (рехеширование не требовалось)\n",
      "объект со значением 7 имеет хэш: 5 (рехеширование не требовалось)\n",
      "объект со значением 9 имеет хэш: 3 (рехеширование не требовалось)\n",
      "объект со значением 2 имеет хэш: 6 (рехеширование не требовалось)\n",
      "объект со значением 8 имеет хэш: 0 (рехеширование не требовалось)\n",
      "объект со значением 6 имеет хэш: 2 (рехеширование не требовалось)\n",
      "объект со значением 1 имеет хэш: 4 (рехешировано. коллизия была в хеше: 3)\n",
      "объект со значением 1 имеет хэш: 7 (рехешировано. коллизия была в хеше: 3)\n",
      "таблица заполнена!\n",
      "таблица заполнена!\n"
     ]
    }
   ],
   "source": [
    "simple_re = SimpleRehashTable(ClassForRehash.MAX_HASH_TABLE)\n",
    "for i in range(len(simple_re.table) + 2):\n",
    "    simple_re.add_el(ClassForRehash(random.randint(0, 9)))"
   ]
  },
  {
   "cell_type": "markdown",
   "id": "ba717b24",
   "metadata": {},
   "source": [
    "# Случайное рехеширование "
   ]
  },
  {
   "cell_type": "code",
   "execution_count": 17,
   "id": "be6b0c76",
   "metadata": {},
   "outputs": [],
   "source": [
    "class RandomRehashTable:\n",
    "\n",
    "    def __init__(self, length):\n",
    "        self.table = [None] * length\n",
    "\n",
    "    def add_el(self, element):\n",
    "        original_hash = element.hash\n",
    "        if self.table[original_hash] is None:\n",
    "            self.table[original_hash] = element\n",
    "            print(\"объект со значением %i имеет хэш: %i (рехеширование не требовалось)\"\n",
    "                  % (self.table[original_hash].value1, original_hash))\n",
    "            return\n",
    "\n",
    "        table_len = len(self.table)\n",
    "        r = 1\n",
    "        for ii in range(10):  # range(число попыток определить новый хеш)\n",
    "            r *= 5\n",
    "            r = r % (4 * table_len)\n",
    "            new_hash = r // 4\n",
    "            if self.table[new_hash] is None:\n",
    "                element.hash = new_hash\n",
    "                self.table[new_hash] = element\n",
    "                print(\"объект со значением %i имеет хэш: %i (рехешировано. коллизия была в хеше: %i)\"\n",
    "                      % (self.table[new_hash].value1, element.hash, original_hash))\n",
    "                return\n",
    "        print(\"Не удалось найти свободный хеш в таблице!\")\n",
    "        return"
   ]
  },
  {
   "cell_type": "code",
   "execution_count": 18,
   "id": "282c580c",
   "metadata": {},
   "outputs": [
    {
     "name": "stdout",
     "output_type": "stream",
     "text": [
      "объект со значением 9 имеет хэш: 3 (рехеширование не требовалось)\n",
      "объект со значением 1 имеет хэш: 1 (рехешировано. коллизия была в хеше: 3)\n",
      "объект со значением 2 имеет хэш: 6 (рехеширование не требовалось)\n",
      "объект со значением 8 имеет хэш: 0 (рехеширование не требовалось)\n",
      "объект со значением 2 имеет хэш: 7 (рехешировано. коллизия была в хеше: 6)\n",
      "объект со значением 5 имеет хэш: 4 (рехешировано. коллизия была в хеше: 7)\n",
      "объект со значением 7 имеет хэш: 5 (рехеширование не требовалось)\n",
      "объект со значением 3 имеет хэш: 2 (рехешировано. коллизия была в хеше: 1)\n",
      "Не удалось найти свободный хеш в таблице!\n",
      "Не удалось найти свободный хеш в таблице!\n"
     ]
    }
   ],
   "source": [
    "random_re = RandomRehashTable(ClassForRehash.MAX_HASH_TABLE)\n",
    "for i in range(len(random_re.table) + 2):\n",
    "    random_re.add_el(ClassForRehash(random.randint(0, 9)))"
   ]
  },
  {
   "cell_type": "markdown",
   "id": "4ceb6ae1",
   "metadata": {},
   "source": [
    "# Метод цепочек"
   ]
  },
  {
   "cell_type": "code",
   "execution_count": 19,
   "id": "8dddcc7a",
   "metadata": {},
   "outputs": [],
   "source": [
    "class ChainRehashTable:\n",
    "\n",
    "    def __init__(self, length):\n",
    "        self.table = [None] * length\n",
    "\n",
    "    def add_el(self, element):\n",
    "        \"\"\"\"\"\n",
    "        метод цепочек\n",
    "        \"\"\"\"\"\n",
    "        original_hash = element.hash\n",
    "        if self.table[original_hash] is None:\n",
    "            self.table[original_hash] = [element]\n",
    "            return\n",
    "        else:\n",
    "            length = len(self.table[original_hash])\n",
    "            self.table[original_hash].append(element)\n",
    "            return"
   ]
  },
  {
   "cell_type": "code",
   "execution_count": 20,
   "id": "878f2bc9",
   "metadata": {},
   "outputs": [
    {
     "name": "stdout",
     "output_type": "stream",
     "text": [
      "[hash: 0] 0 8 \n",
      "[hash: 1] Empty\n",
      "[hash: 2] Empty\n",
      "[hash: 3] 9 1 1 1 \n",
      "[hash: 4] 4 \n",
      "[hash: 5] Empty\n",
      "[hash: 6] 2 2 \n",
      "[hash: 7] 5 \n"
     ]
    }
   ],
   "source": [
    "chain_re = ChainRehashTable(ClassForRehash.MAX_HASH_TABLE)\n",
    "for i in range(len(chain_re.table) + 2):\n",
    "    chain_re.add_el(ClassForRehash(random.randint(0, 9)))\n",
    "hash = 0\n",
    "for x in chain_re.table:  # вывод хеш таблицы для метода цепочек\n",
    "    print(\"[hash: %i]\" % hash, end=\" \")\n",
    "    if x is None:\n",
    "        print(\"Empty\")\n",
    "    else:\n",
    "        for y in x:\n",
    "            print(y.value1, end=\" \")\n",
    "        print(\"\")\n",
    "    hash += 1"
   ]
  },
  {
   "cell_type": "markdown",
   "id": "11733325",
   "metadata": {},
   "source": [
    "# Задание 3\n",
    "## Расставить на стандартной 64-клеточной шахматной доске 8 ферзей так, чтобы ни один из них не находился под боем другого». Подразумевается, что ферзь бьёт все клетки, расположенные по вертикалям, горизонталям и обеим диагоналямНаписать программу, которая находит хотя бы один способ решения задач."
   ]
  },
  {
   "cell_type": "code",
   "execution_count": 21,
   "id": "8a5ca1a2",
   "metadata": {},
   "outputs": [],
   "source": [
    "def make_quins_attack(array):\n",
    "    \"\"\"\n",
    "    пересчитывает клетки под атакой на всём поле\n",
    "    \"\"\"\n",
    "    length = len(array)\n",
    "    for y in range(length):  # очищаем закрытые клетки\n",
    "        for x in range(length):\n",
    "            if array[y][x] == 1:\n",
    "                array[y][x] = 0\n",
    "    for y in range(length):  # закрываем клетки\n",
    "        for x in range(length):\n",
    "            if array[y][x] == 2:\n",
    "                buffer = 0\n",
    "                for i in range(length):\n",
    "                    if array[i][x] == 0:  # закрываем клетки по вертикали\n",
    "                        array[i][x] = 1\n",
    "                    if array[y][i] == 0:  # закрываем клетки по горизонтали\n",
    "                        array[y][i] = 1\n",
    "                    # закрываем клетки по диагонали \\\n",
    "                    if x >= y and length > x - y + i >= 0:  # королева в верхней правой части доски\n",
    "                        if array[i][x - y + i] == 0:\n",
    "                            array[i][x - y + i] = 1\n",
    "                    elif length > y - x + i >= 0:  # королева в нижней левой части доски\n",
    "                        if array[y - x + i][i] == 0:\n",
    "                            array[y - x + i][i] = 1\n",
    "                    # закрываем клетки по диагонали /\n",
    "                    if x + y <= length and length > x + y - i >= 0:  # королева в верхней левой части доски\n",
    "                        if array[i][x + y - i] == 0:\n",
    "                            array[i][x + y - i] = 1\n",
    "                    elif length > y + x - i >= 0:  # королева в нижней правой части доски\n",
    "                        if array[y + x - i][i] == 0:\n",
    "                            array[y + x - i][i] = 1\n",
    "\n",
    "\n",
    "def filling_quins(array, quins_amount):\n",
    "    length = len(array)\n",
    "    for y in range(length):\n",
    "        for x in range(length):\n",
    "            if array[y][x] == 0:  # нашли свободное место для королевы\n",
    "                array[y][x] = 2\n",
    "                quins_amount -= 1\n",
    "                make_quins_attack(array)\n",
    "                if quins_amount == 0:  # королев не осталось\n",
    "                    return 1  # королевы успешно расставленны\n",
    "                if filling_quins(array, quins_amount) == 1:\n",
    "                    return 1  # королевы успешно расставленны\n",
    "                else:\n",
    "                    array[y][x] = 0\n",
    "                    quins_amount += 1\n",
    "                    make_quins_attack(array)\n",
    "    return -1  # неудача\n",
    "\n",
    "\n",
    "def chess_2(board_length, quins_amount):\n",
    "    board = [0] * board_length\n",
    "    for i in range(board_length):  # формируем нашу доску как массив из массивов\n",
    "        board[i] = [0] * board_length\n",
    "    if filling_quins(board, quins_amount) == 1:  # ищем доску\n",
    "        print(\"Комбинация найдена!\")\n",
    "    else:\n",
    "        print(\"Комбинации не существует!\")\n",
    "    return board"
   ]
  },
  {
   "cell_type": "code",
   "execution_count": 22,
   "id": "345b738f",
   "metadata": {},
   "outputs": [
    {
     "name": "stdout",
     "output_type": "stream",
     "text": [
      "Комбинация найдена!\n",
      "\u001b[48m Q \u001b[0m\u001b[47m C \u001b[0m\u001b[47m C \u001b[0m\u001b[47m C \u001b[0m\u001b[47m C \u001b[0m\u001b[47m C \u001b[0m\u001b[47m C \u001b[0m\u001b[47m C \u001b[0m\n",
      "\u001b[47m C \u001b[0m\u001b[47m C \u001b[0m\u001b[47m C \u001b[0m\u001b[47m C \u001b[0m\u001b[48m Q \u001b[0m\u001b[47m C \u001b[0m\u001b[47m C \u001b[0m\u001b[47m C \u001b[0m\n",
      "\u001b[47m C \u001b[0m\u001b[47m C \u001b[0m\u001b[47m C \u001b[0m\u001b[47m C \u001b[0m\u001b[47m C \u001b[0m\u001b[47m C \u001b[0m\u001b[47m C \u001b[0m\u001b[48m Q \u001b[0m\n",
      "\u001b[47m C \u001b[0m\u001b[47m C \u001b[0m\u001b[47m C \u001b[0m\u001b[47m C \u001b[0m\u001b[47m C \u001b[0m\u001b[48m Q \u001b[0m\u001b[47m C \u001b[0m\u001b[47m C \u001b[0m\n",
      "\u001b[47m C \u001b[0m\u001b[47m C \u001b[0m\u001b[48m Q \u001b[0m\u001b[47m C \u001b[0m\u001b[47m C \u001b[0m\u001b[47m C \u001b[0m\u001b[47m C \u001b[0m\u001b[47m C \u001b[0m\n",
      "\u001b[47m C \u001b[0m\u001b[47m C \u001b[0m\u001b[47m C \u001b[0m\u001b[47m C \u001b[0m\u001b[47m C \u001b[0m\u001b[47m C \u001b[0m\u001b[48m Q \u001b[0m\u001b[47m C \u001b[0m\n",
      "\u001b[47m C \u001b[0m\u001b[48m Q \u001b[0m\u001b[47m C \u001b[0m\u001b[47m C \u001b[0m\u001b[47m C \u001b[0m\u001b[47m C \u001b[0m\u001b[47m C \u001b[0m\u001b[47m C \u001b[0m\n",
      "\u001b[47m C \u001b[0m\u001b[47m C \u001b[0m\u001b[47m C \u001b[0m\u001b[48m Q \u001b[0m\u001b[47m C \u001b[0m\u001b[47m C \u001b[0m\u001b[47m C \u001b[0m\u001b[47m C \u001b[0m\n"
     ]
    }
   ],
   "source": [
    "class Colors:\n",
    "    WHITE = '\\u001b[47m'\n",
    "    BLACK = '\\u001b[48m'\n",
    "    RESET = '\\u001b[0m'\n",
    "    \n",
    "\n",
    "our_board = chess_2(8, 8)\n",
    "\n",
    "white_f = False\n",
    "for y in our_board:\n",
    "    for x in y:\n",
    "        if white_f:\n",
    "            white_f = False\n",
    "        else:\n",
    "            white_f = True\n",
    "        if x == 0:\n",
    "            if white_f:\n",
    "                print(Colors.WHITE + \" O \" + Colors.RESET, end='')\n",
    "            else:\n",
    "                print(Colors.BLACK + \" O \" + Colors.RESET, end='')\n",
    "        elif x == 1:\n",
    "            print(Colors.WHITE + \" C \" + Colors.RESET, end='')\n",
    "        else:\n",
    "            print(Colors.BLACK + \" Q \" + Colors.RESET, end='')\n",
    "    print('')\n",
    "    if white_f:\n",
    "        white_f = False\n",
    "    else:\n",
    "        white_f = True"
   ]
  },
  {
   "cell_type": "code",
   "execution_count": null,
   "id": "b53cd5d9",
   "metadata": {},
   "outputs": [],
   "source": []
  }
 ],
 "metadata": {
  "kernelspec": {
   "display_name": "Python 3 (ipykernel)",
   "language": "python",
   "name": "python3"
  },
  "language_info": {
   "codemirror_mode": {
    "name": "ipython",
    "version": 3
   },
   "file_extension": ".py",
   "mimetype": "text/x-python",
   "name": "python",
   "nbconvert_exporter": "python",
   "pygments_lexer": "ipython3",
   "version": "3.10.2"
  }
 },
 "nbformat": 4,
 "nbformat_minor": 5
}
