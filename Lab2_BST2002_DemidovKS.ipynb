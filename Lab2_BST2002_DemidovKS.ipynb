{
 "cells": [
  {
   "cell_type": "markdown",
   "id": "fd24e976",
   "metadata": {},
   "source": [
    "# Лабораторная работа №2\n",
    "## Выполнил студент грауппы БСТ2002 Демидов Константин \n",
    "### Задание №1"
   ]
  },
  {
   "cell_type": "markdown",
   "id": "4a61d614",
   "metadata": {},
   "source": [
    "#### Реализовать методы поиска в соответствии с заданием. Организовать генерацию начального набора случайных данных. Для всех вариантов добавить реализацию добавления, поиска и удаления элементов. Оценить время работы каждого алгоритма поиска и сравнить его со временем работы стандартной функции поиска, используемой в выбранном языке программирования."
   ]
  },
  {
   "cell_type": "markdown",
   "id": "2ddb2983",
   "metadata": {},
   "source": [
    "### Подключение библиотек"
   ]
  },
  {
   "cell_type": "code",
   "execution_count": 6,
   "id": "2f246faa",
   "metadata": {},
   "outputs": [],
   "source": [
    "from IPython.display import HTML, display\n",
    "import random\n",
    "import time\n",
    "from random import randint\n",
    "import copy"
   ]
  },
  {
   "cell_type": "code",
   "execution_count": 9,
   "id": "a2a22d14",
   "metadata": {},
   "outputs": [
    {
     "name": "stdout",
     "output_type": "stream",
     "text": [
      "Введите количество элементов : 100\n",
      "Укажите начальный диапозон чисел для генерации: -100\n",
      "Укажите конечный диапозон чисел для генерации: 100\n",
      "Сгенерированные элементы: \n",
      "-100 -99 -96 -94 -93 -90 -90 -88 -85 -85 -83 -77 -76 -75 -73 -73 -70 -63 -63 -62 -56 -55 -54 -53 -50 -43 -42 -42 -40 -39 -37 -36 -36 -34 -32 -30 -29 -26 -26 -24 -20 -15 -11 -6 -6 -5 -4 -4 -2 -2 -1 1 2 4 4 5 7 10 10 11 13 15 15 16 23 29 34 34 36 41 43 44 45 46 48 49 49 50 50 51 53 53 54 54 56 63 64 65 67 70 71 71 72 82 85 90 90 93 95 95 \n"
     ]
    }
   ],
   "source": [
    "def Print(mas, n):\n",
    "    for i in range (int(n)):\n",
    "        print(mas[i], end=' ')\n",
    "    print()\n",
    "    \n",
    "n = int(input(\"Введите количество элементов : \"))\n",
    "min_limit = input(\"Укажите начальный диапозон чисел для генерации: \")\n",
    "max_limit = input(\"Укажите конечный диапозон чисел для генерации: \")\n",
    "mas = [randint(int(min_limit), int(max_limit)) for i in range(int(n))]\n",
    "\n",
    "\n",
    "mas.sort()\n",
    "print(\"Сгенерированные элементы: \")\n",
    "Print(mas, n)\n",
    "\n",
    "def Insert(mas):\n",
    "    print(\"Хотите внести элемент? \")\n",
    "    ans = input()\n",
    "    if ans==\"да\" :\n",
    "        el = int(input(\"Введите число: \"))\n",
    "        index = int(input(\"Введите индекс: \"))\n",
    "        mas.insert(index, el)\n",
    "        Print(mas, n + 1)\n",
    "\n",
    "def Delete(mas):\n",
    "    print(\"Хотите удалить элемент? \")\n",
    "    ans = input()\n",
    "    if ans == \"да\" :\n",
    "        index = int(input(\"Введите индекс: \"))\n",
    "        del mas[index]\n",
    "        Print(mas, n - 1)"
   ]
  },
  {
   "cell_type": "markdown",
   "id": "22dfc2b6",
   "metadata": {},
   "source": [
    "### Бинарный поиск"
   ]
  },
  {
   "cell_type": "code",
   "execution_count": 10,
   "id": "a073a9c3",
   "metadata": {},
   "outputs": [],
   "source": [
    "def BinSearch(arr, x):\n",
    "    m = len(arr) // 2\n",
    "    i = 0\n",
    "    j = len(arr)-1\n",
    "    while arr[m] != x and i<= j:\n",
    "        if x > arr[m]:\n",
    "            i = m + 1\n",
    "        else:\n",
    "            j = m - 1\n",
    "        m = (i + j) // 2\n",
    "    if i > j:\n",
    "        print(\"Искомого числа в массиве нет\")\n",
    "    else:\n",
    "        print(\"Индекс: \", m)"
   ]
  },
  {
   "cell_type": "code",
   "execution_count": 11,
   "id": "bfbe07d5",
   "metadata": {},
   "outputs": [
    {
     "name": "stdout",
     "output_type": "stream",
     "text": [
      "Бинарный поиск\n",
      "Введите элемент, который хотите найти: \n",
      "64\n",
      "Индекс:  86\n",
      "Время затраченное на поиск:  0.0009953975677490\n",
      "Хотите внести элемент? \n",
      "да\n",
      "Введите число: 1000000\n",
      "Введите индекс: 2\n",
      "-100 -99 1000000 -96 -94 -93 -90 -90 -88 -85 -85 -83 -77 -76 -75 -73 -73 -70 -63 -63 -62 -56 -55 -54 -53 -50 -43 -42 -42 -40 -39 -37 -36 -36 -34 -32 -30 -29 -26 -26 -24 -20 -15 -11 -6 -6 -5 -4 -4 -2 -2 -1 1 2 4 4 5 7 10 10 11 13 15 15 16 23 29 34 34 36 41 43 44 45 46 48 49 49 50 50 51 53 53 54 54 56 63 64 65 67 70 71 71 72 82 85 90 90 93 95 95 \n",
      "Хотите удалить элемент? \n",
      "да\n",
      "Введите индекс: 2\n",
      "-100 -99 -96 -94 -93 -90 -90 -88 -85 -85 -83 -77 -76 -75 -73 -73 -70 -63 -63 -62 -56 -55 -54 -53 -50 -43 -42 -42 -40 -39 -37 -36 -36 -34 -32 -30 -29 -26 -26 -24 -20 -15 -11 -6 -6 -5 -4 -4 -2 -2 -1 1 2 4 4 5 7 10 10 11 13 15 15 16 23 29 34 34 36 41 43 44 45 46 48 49 49 50 50 51 53 53 54 54 56 63 64 65 67 70 71 71 72 82 85 90 90 93 95 \n"
     ]
    }
   ],
   "source": [
    "print(\"Бинарный поиск\")\n",
    "print(\"Введите элемент, который хотите найти: \")\n",
    "element = int(input())\n",
    "mas_bin = copy.deepcopy(mas)\n",
    "start = time.time()\n",
    "BinSearch(mas_bin, element)\n",
    "end = time.time()-start\n",
    "print(\"Время затраченное на поиск: \",'%.16f' % end)\n",
    "Insert(mas_bin)\n",
    "Delete(mas_bin)"
   ]
  },
  {
   "cell_type": "markdown",
   "id": "1c019963",
   "metadata": {},
   "source": [
    "### Бинарное дерево"
   ]
  },
  {
   "cell_type": "code",
   "execution_count": 12,
   "id": "22496f40",
   "metadata": {},
   "outputs": [],
   "source": [
    "class Node:\n",
    "\n",
    "    def __init__(self, data):\n",
    "\n",
    "        self.left = None\n",
    "        self.right = None\n",
    "        self.data = data\n",
    "\n",
    "    def insert(self, data):\n",
    "\n",
    "        if self.data:\n",
    "            if data < self.data:\n",
    "                if self.left is None:\n",
    "                    self.left = Node(data)\n",
    "                else:\n",
    "                    self.left.insert(data)\n",
    "            elif data > self.data:\n",
    "                if self.right is None:\n",
    "                    self.right = Node(data)\n",
    "                else:\n",
    "                    self.right.insert(data)\n",
    "        else:\n",
    "            self.data = data\n",
    "\n",
    "    def findval(self, lkpval):\n",
    "        if lkpval < self.data:\n",
    "            if self.left is None:\n",
    "                print(lkpval, \"не найден.\")\n",
    "                return False\n",
    "            return self.left.findval(lkpval)\n",
    "        elif lkpval > self.data:\n",
    "            if self.right is None:\n",
    "                print(lkpval, \"не найден.\")\n",
    "                return False\n",
    "            return self.right.findval(lkpval)\n",
    "        else:\n",
    "            print(self.data, ' найден.')\n",
    "            return True\n",
    "\n",
    "    def PrintTree(self):\n",
    "        if self.left:\n",
    "            self.left.PrintTree()\n",
    "        print(self.data),\n",
    "        if self.right:\n",
    "            self.right.PrintTree()\n",
    "\n",
    "\n",
    "def make_a_tree(arr):\n",
    "    root = Node(arr[0])\n",
    "    for i in arr[1::]:\n",
    "        root.insert(i)\n",
    "    return root"
   ]
  },
  {
   "cell_type": "code",
   "execution_count": 14,
   "id": "7bfa2f07",
   "metadata": {},
   "outputs": [
    {
     "name": "stdout",
     "output_type": "stream",
     "text": [
      "Бинарное деререво\n",
      "Введите элемент, который хотите найти: 64\n",
      "64  найден.\n",
      "Время затраченное на поиск:  0.0009560585021972656\n",
      "Хотите внести элемент? нет\n",
      "Хотите удалить элемент? нет\n"
     ]
    }
   ],
   "source": [
    "print(\"Бинарное деререво\")\n",
    "mas_tree = copy.deepcopy(mas)\n",
    "root = make_a_tree(mas_tree)\n",
    "num = int(input(\"Введите элемент, который хотите найти: \"))\n",
    "start = time.time()\n",
    "result = root.findval(num)\n",
    "end= time.time() - start\n",
    "print(\"Время затраченное на поиск: \", end)\n",
    "task = input(\"Хотите внести элемент? \")\n",
    "if task == \"да\" :\n",
    "    num = int(input(\"Введите элемент, который хотите внести: \"))\n",
    "    root.insert(num)\n",
    "    root.PrintTree()\n",
    "task = input(\"Хотите удалить элемент? \")\n",
    "if task == \"да\" :\n",
    "    num = int(input(\"Введите элемент, который хотите удалить: \"))\n",
    "    mas_tree.remove(num)\n",
    "    root = make_a_tree(mas_tree)\n",
    "    root.PrintTree()"
   ]
  },
  {
   "cell_type": "markdown",
   "id": "00c48925",
   "metadata": {},
   "source": [
    "### Фибоначев поиск"
   ]
  },
  {
   "cell_type": "code",
   "execution_count": 15,
   "id": "a594e15c",
   "metadata": {},
   "outputs": [],
   "source": [
    "def FibonacciSearch(lys, val):\n",
    "    fibM_minus_2 = 0\n",
    "    fibM_minus_1 = 1\n",
    "    fibM = fibM_minus_1 + fibM_minus_2\n",
    "    while (fibM < len(lys)):\n",
    "        fibM_minus_2 = fibM_minus_1\n",
    "        fibM_minus_1 = fibM\n",
    "        fibM = fibM_minus_1 + fibM_minus_2\n",
    "    index = -1\n",
    "    while (fibM > 1):\n",
    "        i = min(index + fibM_minus_2, (len(lys)-1))\n",
    "        if (lys[i] < val):\n",
    "            fibM = fibM_minus_1\n",
    "            fibM_minus_1 = fibM_minus_2\n",
    "            fibM_minus_2 = fibM - fibM_minus_1\n",
    "            index = i\n",
    "        elif (lys[i] > val):\n",
    "            fibM = fibM_minus_2\n",
    "            fibM_minus_1 = fibM_minus_1 - fibM_minus_2\n",
    "            fibM_minus_2 = fibM - fibM_minus_1\n",
    "        else :\n",
    "            return i\n",
    "    if(fibM_minus_1 and index < (len(lys)-1) and lys[index+1] == val):\n",
    "        return index+1\n",
    "    return -1"
   ]
  },
  {
   "cell_type": "code",
   "execution_count": 34,
   "id": "48b20881",
   "metadata": {},
   "outputs": [
    {
     "name": "stdout",
     "output_type": "stream",
     "text": [
      "Фибоначчиев поиск\n",
      "Введите элемент, который хотите найти: \n",
      "71\n",
      "Индекс:  91\n",
      "Время затраченное на поиск:  0.0010001659393310547\n",
      "Хотите внести элемент? \n",
      "нет\n",
      "Хотите удалить элемент? \n",
      "нет\n"
     ]
    }
   ],
   "source": [
    "print(\"Фибоначчиев поиск\")\n",
    "print(\"Введите элемент, который хотите найти: \")\n",
    "element = int(input())\n",
    "mas_fib = copy.deepcopy(mas)\n",
    "start = time.time()\n",
    "a = FibonacciSearch(mas_fib,element)\n",
    "end = time.time()-start\n",
    "if a == -1:\n",
    "    print(\"Искомого числа в массиве нет\")\n",
    "else:\n",
    "    print(\"Индекс: \", a)\n",
    "print(\"Время затраченное на поиск: \", end)\n",
    "Insert(mas_fib)\n",
    "Delete(mas_fib)"
   ]
  },
  {
   "cell_type": "markdown",
   "id": "ea222512",
   "metadata": {},
   "source": [
    "### Интерполяционный"
   ]
  },
  {
   "cell_type": "code",
   "execution_count": 20,
   "id": "fbef0c51",
   "metadata": {},
   "outputs": [],
   "source": [
    "def InterpolationSearch(lys, val):\n",
    "    low = 0\n",
    "    high = (len(lys) - 1)\n",
    "    while low <= high and val >= lys[low] and val <= lys[high]:\n",
    "        index = low + int(((float(high - low) / (lys[high] - lys[low])) * (val - lys[low])))\n",
    "        if lys[index] == val:\n",
    "            return index\n",
    "        if lys[index] < val:\n",
    "            low = index + 1\n",
    "        else:\n",
    "            high = index - 1\n",
    "    return -1"
   ]
  },
  {
   "cell_type": "code",
   "execution_count": 46,
   "id": "0c1da7a8",
   "metadata": {},
   "outputs": [
    {
     "name": "stdout",
     "output_type": "stream",
     "text": [
      "Интерполяционный поиск\n",
      "Введите элемент, который хотите найти: \n",
      "64\n",
      "Индекс:  86\n",
      "Время работы:  0.0008077621459960938\n",
      "Хотите внести элемент? \n",
      "да\n",
      "Введите число: 12435465665\n",
      "Введите индекс: 6\n",
      "-100 -99 -96 -94 -93 -90 12435465665 -90 -88 -85 -85 -83 -77 -76 -75 -73 -73 -70 -63 -63 -62 -56 -55 -54 -53 -50 -43 -42 -42 -40 -39 -37 -36 -36 -34 -32 -30 -29 -26 -26 -24 -20 -15 -11 -6 -6 -5 -4 -4 -2 -2 -1 1 2 4 4 5 7 10 10 11 13 15 15 16 23 29 34 34 36 41 43 44 45 46 48 49 49 50 50 51 53 53 54 54 56 63 64 65 67 70 71 71 72 82 85 90 90 93 95 95 \n",
      "Хотите удалить элемент? \n",
      "да\n",
      "Введите индекс: 6\n",
      "-100 -99 -96 -94 -93 -90 -90 -88 -85 -85 -83 -77 -76 -75 -73 -73 -70 -63 -63 -62 -56 -55 -54 -53 -50 -43 -42 -42 -40 -39 -37 -36 -36 -34 -32 -30 -29 -26 -26 -24 -20 -15 -11 -6 -6 -5 -4 -4 -2 -2 -1 1 2 4 4 5 7 10 10 11 13 15 15 16 23 29 34 34 36 41 43 44 45 46 48 49 49 50 50 51 53 53 54 54 56 63 64 65 67 70 71 71 72 82 85 90 90 93 95 \n"
     ]
    }
   ],
   "source": [
    "#интерполяционный поиск\n",
    "print(\"Интерполяционный поиск\")\n",
    "print(\"Введите элемент, который хотите найти: \")\n",
    "element = int(input())\n",
    "mas_inter = copy.deepcopy(mas)\n",
    "start_time_inter = time.time()\n",
    "b = InterpolationSearch(mas_inter, element)\n",
    "end_time_inter = time.time()-start_time_inter\n",
    "if b == -1:\n",
    "    print(\"Искомого числа в массиве нет\")\n",
    "else:\n",
    "    print(\"Индекс: \", b)\n",
    "print(\"Время работы: \", end_time_inter)\n",
    "Insert(mas_inter)\n",
    "Delete(mas_inter)"
   ]
  },
  {
   "cell_type": "markdown",
   "id": "96d8cda0",
   "metadata": {},
   "source": [
    "### Задание №2"
   ]
  },
  {
   "cell_type": "markdown",
   "id": "fc661533",
   "metadata": {},
   "source": [
    "### Простое рехеширование"
   ]
  },
  {
   "cell_type": "code",
   "execution_count": 22,
   "id": "bba48948",
   "metadata": {},
   "outputs": [],
   "source": [
    "def generate_array(length=100):  # генерируем случайный массив\n",
    "    array = []\n",
    "    while len(array) < length:\n",
    "        array.append(random.randint(0, 100))\n",
    "    return array\n",
    "class ClassForRehash:\n",
    "    \"\"\"\n",
    "    Класс для наглядных примеров рехэширования с крайне примитивным хэшированием (для наглядности). \\r\\n\n",
    "        Особенность:\n",
    "            -Хеш зависит только от единиц в числе value1 (для удобства создания коллизий)\n",
    "    \"\"\"\n",
    "    def __init__(self, value1):\n",
    "        self.value1 = value1\n",
    "        self.hash = int((((value1 % ClassForRehash.MAX_HASH_TABLE) * 331) & 127) % ClassForRehash.MAX_HASH_TABLE)\n",
    "\n",
    "    MAX_HASH_TABLE = 8"
   ]
  },
  {
   "cell_type": "code",
   "execution_count": 23,
   "id": "a7cb791d",
   "metadata": {},
   "outputs": [],
   "source": [
    "class SimpleRehashTable:\n",
    "\n",
    "    def __init__(self, length):\n",
    "        self.table = [None] * length\n",
    "\n",
    "    def add_el(self, element):\n",
    "        original_hash = element.hash\n",
    "        if self.table[original_hash] is None:\n",
    "            self.table[original_hash] = element\n",
    "            print(\"объект со значением %i имеет хэш: %i (рехеширование не требовалось)\"\n",
    "                  % (self.table[original_hash].value1, element.hash))\n",
    "            return\n",
    "\n",
    "        \"\"\"\"\"\n",
    "        простое рехеширование\n",
    "        \"\"\"\"\"\n",
    "        new_hash = original_hash + 1\n",
    "        while new_hash != original_hash:\n",
    "            if new_hash >= len(self.table):\n",
    "                new_hash = 0\n",
    "                continue\n",
    "            if self.table[new_hash] is None:\n",
    "                element.hash = new_hash\n",
    "                self.table[new_hash] = element\n",
    "                print(\"объект со значением %i имеет хэш: %i (рехешировано. коллизия была в хеше: %i)\"\n",
    "                      % (self.table[new_hash].value1, element.hash, original_hash))\n",
    "                return\n",
    "            new_hash += 1\n",
    "        print(\"таблица заполнена!\")\n",
    "        return"
   ]
  },
  {
   "cell_type": "code",
   "execution_count": 24,
   "id": "4bc3761b",
   "metadata": {},
   "outputs": [],
   "source": [
    "class SimpleRehashTable:\n",
    "\n",
    "    def __init__(self, length):\n",
    "        self.table = [None] * length\n",
    "\n",
    "    def add_el(self, element):\n",
    "        original_hash = element.hash\n",
    "        if self.table[original_hash] is None:\n",
    "            self.table[original_hash] = element\n",
    "            print(\"объект со значением %i имеет хэш: %i (рехеширование не требовалось)\"\n",
    "                  % (self.table[original_hash].value1, element.hash))\n",
    "            return\n",
    "\n",
    "        new_hash = original_hash + 1\n",
    "        while new_hash != original_hash:\n",
    "            if new_hash >= len(self.table):\n",
    "                new_hash = 0\n",
    "                continue\n",
    "            if self.table[new_hash] is None:\n",
    "                element.hash = new_hash\n",
    "                self.table[new_hash] = element\n",
    "                print(\"объект со значением %i имеет хэш: %i (рехешировано. коллизия была в хеше: %i)\"\n",
    "                      % (self.table[new_hash].value1, element.hash, original_hash))\n",
    "                return\n",
    "            new_hash += 1\n",
    "        print(\"таблица заполнена!\")\n",
    "        return"
   ]
  },
  {
   "cell_type": "code",
   "execution_count": 25,
   "id": "3ee76477",
   "metadata": {},
   "outputs": [
    {
     "name": "stdout",
     "output_type": "stream",
     "text": [
      "объект со значением 7 имеет хэш: 5 (рехеширование не требовалось)\n",
      "объект со значением 6 имеет хэш: 2 (рехеширование не требовалось)\n",
      "объект со значением 8 имеет хэш: 0 (рехеширование не требовалось)\n",
      "объект со значением 0 имеет хэш: 1 (рехешировано. коллизия была в хеше: 0)\n",
      "объект со значением 8 имеет хэш: 3 (рехешировано. коллизия была в хеше: 0)\n",
      "объект со значением 0 имеет хэш: 4 (рехешировано. коллизия была в хеше: 0)\n",
      "объект со значением 2 имеет хэш: 6 (рехеширование не требовалось)\n",
      "объект со значением 0 имеет хэш: 7 (рехешировано. коллизия была в хеше: 0)\n",
      "таблица заполнена!\n",
      "таблица заполнена!\n"
     ]
    }
   ],
   "source": [
    "simple_re = SimpleRehashTable(ClassForRehash.MAX_HASH_TABLE)\n",
    "for i in range(len(simple_re.table) + 2):\n",
    "    simple_re.add_el(ClassForRehash(random.randint(0, 9)))"
   ]
  },
  {
   "cell_type": "markdown",
   "id": "552e12ef",
   "metadata": {},
   "source": [
    "### Случайное рехеширование"
   ]
  },
  {
   "cell_type": "code",
   "execution_count": 26,
   "id": "b5cb12a3",
   "metadata": {},
   "outputs": [],
   "source": [
    "class RandomRehashTable:\n",
    "\n",
    "    def __init__(self, length):\n",
    "        self.table = [None] * length\n",
    "\n",
    "    def add_el(self, element):\n",
    "        original_hash = element.hash\n",
    "        if self.table[original_hash] is None:\n",
    "            self.table[original_hash] = element\n",
    "            print(\"объект со значением %i имеет хэш: %i (рехеширование не требовалось)\"\n",
    "                  % (self.table[original_hash].value1, original_hash))\n",
    "            return\n",
    "\n",
    "        table_len = len(self.table)\n",
    "        r = 1\n",
    "        for ii in range(10):  # range(число попыток определить новый хеш)\n",
    "            r *= 5\n",
    "            r = r % (4 * table_len)\n",
    "            new_hash = r // 4\n",
    "            if self.table[new_hash] is None:\n",
    "                element.hash = new_hash\n",
    "                self.table[new_hash] = element\n",
    "                print(\"объект со значением %i имеет хэш: %i (рехешировано. коллизия была в хеше: %i)\"\n",
    "                      % (self.table[new_hash].value1, element.hash, original_hash))\n",
    "                return\n",
    "        print(\"Не удалось найти свободный хеш в таблице!\")\n",
    "        return"
   ]
  },
  {
   "cell_type": "code",
   "execution_count": 27,
   "id": "66cd0077",
   "metadata": {},
   "outputs": [
    {
     "name": "stdout",
     "output_type": "stream",
     "text": [
      "объект со значением 2 имеет хэш: 6 (рехеширование не требовалось)\n",
      "объект со значением 8 имеет хэш: 0 (рехеширование не требовалось)\n",
      "объект со значением 8 имеет хэш: 1 (рехешировано. коллизия была в хеше: 0)\n",
      "объект со значением 4 имеет хэш: 4 (рехеширование не требовалось)\n",
      "объект со значением 4 имеет хэш: 7 (рехешировано. коллизия была в хеше: 4)\n",
      "объект со значением 5 имеет хэш: 5 (рехешировано. коллизия была в хеше: 7)\n",
      "объект со значением 7 имеет хэш: 2 (рехешировано. коллизия была в хеше: 5)\n",
      "объект со значением 8 имеет хэш: 3 (рехешировано. коллизия была в хеше: 0)\n",
      "Не удалось найти свободный хеш в таблице!\n",
      "Не удалось найти свободный хеш в таблице!\n"
     ]
    }
   ],
   "source": [
    "random_re = RandomRehashTable(ClassForRehash.MAX_HASH_TABLE)\n",
    "for i in range(len(random_re.table) + 2):\n",
    "    random_re.add_el(ClassForRehash(random.randint(0, 9)))"
   ]
  },
  {
   "cell_type": "markdown",
   "id": "4a3360d3",
   "metadata": {},
   "source": [
    "### Метод цепочек"
   ]
  },
  {
   "cell_type": "code",
   "execution_count": 28,
   "id": "b23cb5cf",
   "metadata": {},
   "outputs": [],
   "source": [
    "class ChainRehashTable:\n",
    "\n",
    "    def __init__(self, length):\n",
    "        self.table = [None] * length\n",
    "\n",
    "    def add_el(self, element):\n",
    "        \"\"\"\"\"\n",
    "        метод цепочек\n",
    "        \"\"\"\"\"\n",
    "        original_hash = element.hash\n",
    "        if self.table[original_hash] is None:\n",
    "            self.table[original_hash] = [element]\n",
    "            return\n",
    "        else:\n",
    "            length = len(self.table[original_hash])\n",
    "            self.table[original_hash].append(element)\n",
    "            return"
   ]
  },
  {
   "cell_type": "code",
   "execution_count": 48,
   "id": "447476aa",
   "metadata": {},
   "outputs": [
    {
     "name": "stdout",
     "output_type": "stream",
     "text": [
      "[hash: 0] 0 \n",
      "[hash: 1] 3 \n",
      "[hash: 2] 6 \n",
      "[hash: 3] 9 \n",
      "[hash: 4] Empty\n",
      "[hash: 5] Empty\n",
      "[hash: 6] 2 2 2 \n",
      "[hash: 7] 5 5 5 \n"
     ]
    }
   ],
   "source": [
    "chain_re = ChainRehashTable(ClassForRehash.MAX_HASH_TABLE)\n",
    "for i in range(len(chain_re.table) + 2):\n",
    "    chain_re.add_el(ClassForRehash(random.randint(0, 9)))\n",
    "hash = 0\n",
    "for x in chain_re.table:  # вывод хеш таблицы для метода цепочек\n",
    "    print(\"[hash: %i]\" % hash, end=\" \")\n",
    "    if x is None:\n",
    "        print(\"Empty\")\n",
    "    else:\n",
    "        for y in x:\n",
    "            print(y.value1, end=\" \")\n",
    "        print(\"\")\n",
    "    hash += 1"
   ]
  },
  {
   "cell_type": "markdown",
   "id": "05ddaf0f",
   "metadata": {},
   "source": [
    "### Задание №3"
   ]
  },
  {
   "cell_type": "markdown",
   "id": "be1899a5",
   "metadata": {},
   "source": [
    "#### Расставить на стандартной 64-клеточной шахматной доске 8 ферзей так, чтобы ни один из них не находился под боем другого». Подразумевается, что ферзь бьёт все клетки, расположенные по вертикалям, горизонталям и обеим диагоналямНаписать программу, которая находит хотя бы один способ решения задач."
   ]
  },
  {
   "cell_type": "code",
   "execution_count": 30,
   "id": "76434f61",
   "metadata": {},
   "outputs": [],
   "source": [
    "def make_quins_attack(array):\n",
    "    \"\"\"\n",
    "    пересчитывает клетки под атакой на всём поле\n",
    "    \"\"\"\n",
    "    length = len(array)\n",
    "    for y in range(length):  # очищаем закрытые клетки\n",
    "        for x in range(length):\n",
    "            if array[y][x] == 1:\n",
    "                array[y][x] = 0\n",
    "    for y in range(length):  # закрываем клетки\n",
    "        for x in range(length):\n",
    "            if array[y][x] == 2:\n",
    "                buffer = 0\n",
    "                for i in range(length):\n",
    "                    if array[i][x] == 0:  # закрываем клетки по вертикали\n",
    "                        array[i][x] = 1\n",
    "                    if array[y][i] == 0:  # закрываем клетки по горизонтали\n",
    "                        array[y][i] = 1\n",
    "                    # закрываем клетки по диагонали \\\n",
    "                    if x >= y and length > x - y + i >= 0:  # королева в верхней правой части доски\n",
    "                        if array[i][x - y + i] == 0:\n",
    "                            array[i][x - y + i] = 1\n",
    "                    elif length > y - x + i >= 0:  # королева в нижней левой части доски\n",
    "                        if array[y - x + i][i] == 0:\n",
    "                            array[y - x + i][i] = 1\n",
    "                    # закрываем клетки по диагонали /\n",
    "                    if x + y <= length and length > x + y - i >= 0:  # королева в верхней левой части доски\n",
    "                        if array[i][x + y - i] == 0:\n",
    "                            array[i][x + y - i] = 1\n",
    "                    elif length > y + x - i >= 0:  # королева в нижней правой части доски\n",
    "                        if array[y + x - i][i] == 0:\n",
    "                            array[y + x - i][i] = 1\n",
    "\n",
    "\n",
    "def filling_quins(array, quins_amount):\n",
    "    length = len(array)\n",
    "    for y in range(length):\n",
    "        for x in range(length):\n",
    "            if array[y][x] == 0:  # нашли свободное место для королевы\n",
    "                array[y][x] = 2\n",
    "                quins_amount -= 1\n",
    "                make_quins_attack(array)\n",
    "                if quins_amount == 0:  # королев не осталось\n",
    "                    return 1  # королевы успешно расставленны\n",
    "                if filling_quins(array, quins_amount) == 1:\n",
    "                    return 1  # королевы успешно расставленны\n",
    "                else:\n",
    "                    array[y][x] = 0\n",
    "                    quins_amount += 1\n",
    "                    make_quins_attack(array)\n",
    "    return -1  # неудача\n",
    "\n",
    "\n",
    "def chess_2(board_length, quins_amount):\n",
    "    board = [0] * board_length\n",
    "    for i in range(board_length):  # формируем нашу доску как массив из массивов\n",
    "        board[i] = [0] * board_length\n",
    "    if filling_quins(board, quins_amount) == 1:  # ищем доску\n",
    "        print(\"Комбинация найдена!\")\n",
    "    else:\n",
    "        print(\"Комбинации не существует!\")\n",
    "    return board"
   ]
  },
  {
   "cell_type": "code",
   "execution_count": 32,
   "id": "4b5b6ef9",
   "metadata": {},
   "outputs": [
    {
     "name": "stdout",
     "output_type": "stream",
     "text": [
      "Комбинация найдена!\n",
      "\u001b[48m Q \u001b[0m\u001b[47m C \u001b[0m\u001b[47m C \u001b[0m\u001b[47m C \u001b[0m\u001b[47m C \u001b[0m\u001b[47m C \u001b[0m\u001b[47m C \u001b[0m\u001b[47m C \u001b[0m\n",
      "\u001b[47m C \u001b[0m\u001b[47m C \u001b[0m\u001b[47m C \u001b[0m\u001b[47m C \u001b[0m\u001b[48m Q \u001b[0m\u001b[47m C \u001b[0m\u001b[47m C \u001b[0m\u001b[47m C \u001b[0m\n",
      "\u001b[47m C \u001b[0m\u001b[47m C \u001b[0m\u001b[47m C \u001b[0m\u001b[47m C \u001b[0m\u001b[47m C \u001b[0m\u001b[47m C \u001b[0m\u001b[47m C \u001b[0m\u001b[48m Q \u001b[0m\n",
      "\u001b[47m C \u001b[0m\u001b[47m C \u001b[0m\u001b[47m C \u001b[0m\u001b[47m C \u001b[0m\u001b[47m C \u001b[0m\u001b[48m Q \u001b[0m\u001b[47m C \u001b[0m\u001b[47m C \u001b[0m\n",
      "\u001b[47m C \u001b[0m\u001b[47m C \u001b[0m\u001b[48m Q \u001b[0m\u001b[47m C \u001b[0m\u001b[47m C \u001b[0m\u001b[47m C \u001b[0m\u001b[47m C \u001b[0m\u001b[47m C \u001b[0m\n",
      "\u001b[47m C \u001b[0m\u001b[47m C \u001b[0m\u001b[47m C \u001b[0m\u001b[47m C \u001b[0m\u001b[47m C \u001b[0m\u001b[47m C \u001b[0m\u001b[48m Q \u001b[0m\u001b[47m C \u001b[0m\n",
      "\u001b[47m C \u001b[0m\u001b[48m Q \u001b[0m\u001b[47m C \u001b[0m\u001b[47m C \u001b[0m\u001b[47m C \u001b[0m\u001b[47m C \u001b[0m\u001b[47m C \u001b[0m\u001b[47m C \u001b[0m\n",
      "\u001b[47m C \u001b[0m\u001b[47m C \u001b[0m\u001b[47m C \u001b[0m\u001b[48m Q \u001b[0m\u001b[47m C \u001b[0m\u001b[47m C \u001b[0m\u001b[47m C \u001b[0m\u001b[47m C \u001b[0m\n"
     ]
    }
   ],
   "source": [
    "class Colors:\n",
    "    WHITE = '\\u001b[47m'\n",
    "    BLACK = '\\u001b[48m'\n",
    "    RESET = '\\u001b[0m'\n",
    "    \n",
    "\n",
    "our_board = chess_2(8, 8)\n",
    "\n",
    "white_f = False\n",
    "for y in our_board:\n",
    "    for x in y:\n",
    "        if white_f:\n",
    "            white_f = False\n",
    "        else:\n",
    "            white_f = True\n",
    "        if x == 0:\n",
    "            if white_f:\n",
    "                print(Colors.WHITE + \" O \" + Colors.RESET, end='')\n",
    "            else:\n",
    "                print(Colors.BLACK + \" O \" + Colors.RESET, end='')\n",
    "        elif x == 1:\n",
    "            print(Colors.WHITE + \" C \" + Colors.RESET, end='')\n",
    "        else:\n",
    "            print(Colors.BLACK + \" Q \" + Colors.RESET, end='')\n",
    "    print('')\n",
    "    if white_f:\n",
    "        white_f = False\n",
    "    else:\n",
    "        white_f = True"
   ]
  }
 ],
 "metadata": {
  "kernelspec": {
   "display_name": "Python 3 (ipykernel)",
   "language": "python",
   "name": "python3"
  },
  "language_info": {
   "codemirror_mode": {
    "name": "ipython",
    "version": 3
   },
   "file_extension": ".py",
   "mimetype": "text/x-python",
   "name": "python",
   "nbconvert_exporter": "python",
   "pygments_lexer": "ipython3",
   "version": "3.10.2"
  }
 },
 "nbformat": 4,
 "nbformat_minor": 5
}
